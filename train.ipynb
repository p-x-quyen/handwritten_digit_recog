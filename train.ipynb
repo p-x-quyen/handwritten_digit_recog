{
 "cells": [   
  {
   "cell_type": "code",
   "execution_count": null,
   "metadata": {
    "colab": {
     "base_uri": "https://localhost:8080/"
    },
    "executionInfo": {
     "elapsed": 18459,
     "status": "ok",
     "timestamp": 1623166637387,
     "user": {
      "displayName": "B18DCCN501 - Phạm Xuân Quyền",
      "photoUrl": "",
      "userId": "10836938259867598669"
     },
     "user_tz": -420
    },
    "id": "byDV_bIqVEPb",
    "outputId": "01c96744-19ee-443b-ad81-af2140f62275"
   },
   "outputs": [
    {
     "name": "stdout",
     "output_type": "stream",
     "text": [
      "Mounted at /content/drive\n"
     ]
    }
   ],
   "source": [
    "from google.colab import drive\n",
    "drive.mount('/content/drive')"
   ]
  },
  {
   "cell_type": "code",
   "execution_count": 1,
   "metadata": {
    "executionInfo": {
     "elapsed": 340,
     "status": "ok",
     "timestamp": 1623167660863,
     "user": {
      "displayName": "B18DCCN501 - Phạm Xuân Quyền",
      "photoUrl": "",
      "userId": "10836938259867598669"
     },
     "user_tz": -420
    },
    "id": "SXdyGY3mUuXH"
   },
   "outputs": [],
   "source": [
    "import keras\n",
    "from keras.datasets import mnist\n",
    "from keras.models import Sequential\n",
    "from keras.layers import Dense, Dropout, Flatten\n",
    "from keras.layers import Conv2D, MaxPooling2D\n",
    "from keras.utils.np_utils import to_categorical\n",
    "import matplotlib.pyplot as plt\n",
    "import numpy as np"
   ]
  },
  {
   "cell_type": "markdown",
   "metadata": {
    "id": "4UiME22tUuXO"
   },
   "source": [
    "# Load data"
   ]
  },
  {
   "cell_type": "code",
   "execution_count": 2,
   "metadata": {
    "executionInfo": {
     "elapsed": 329,
     "status": "ok",
     "timestamp": 1623167666620,
     "user": {
      "displayName": "B18DCCN501 - Phạm Xuân Quyền",
      "photoUrl": "",
      "userId": "10836938259867598669"
     },
     "user_tz": -420
    },
    "id": "PWC4V3mOUuXO"
   },
   "outputs": [],
   "source": [
    "(X_train_full, y_train_full), (X_test, y_test) = mnist.load_data()"
   ]
  },
  {
   "cell_type": "code",
   "execution_count": 3,
   "metadata": {
    "colab": {
     "base_uri": "https://localhost:8080/"
    },
    "executionInfo": {
     "elapsed": 343,
     "status": "ok",
     "timestamp": 1623167668478,
     "user": {
      "displayName": "B18DCCN501 - Phạm Xuân Quyền",
      "photoUrl": "",
      "userId": "10836938259867598669"
     },
     "user_tz": -420
    },
    "id": "i48ulDU_UuXP",
    "outputId": "09f12e9d-eceb-4e69-b4b4-30429cf47365"
   },
   "outputs": [
    {
     "name": "stdout",
     "output_type": "stream",
     "text": [
      "(60000, 28, 28)\n",
      "(10000, 28, 28)\n"
     ]
    }
   ],
   "source": [
    "print(X_train_full.shape)\n",
    "print(X_test.shape)"
   ]
  },
  {
   "cell_type": "code",
   "execution_count": 4,
   "metadata": {
    "colab": {
     "base_uri": "https://localhost:8080/",
     "height": 265
    },
    "executionInfo": {
     "elapsed": 522,
     "status": "ok",
     "timestamp": 1623167670318,
     "user": {
      "displayName": "B18DCCN501 - Phạm Xuân Quyền",
      "photoUrl": "",
      "userId": "10836938259867598669"
     },
     "user_tz": -420
    },
    "id": "ZSFcj0tIUuXQ",
    "outputId": "f1da5395-d507-493d-eeef-3b9adc42d57f"
   },
   "outputs": [
    {
     "data": {
      "image/png": "[encoded data removed]",
      "text/plain": [
       "<Figure size 432x288 with 1 Axes>"
      ]
     },
     "metadata": {
      "needs_background": "light"
     },
     "output_type": "display_data"
    }
   ],
   "source": [
    "plt.imshow(X_train_full[0])\n",
    "plt.show();"
   ]
  },
  {
   "cell_type": "markdown",
   "metadata": {
    "id": "9hT9yAVDUuXS"
   },
   "source": [
    "# Preprocess the data"
   ]
  },
  {
   "cell_type": "code",
   "execution_count": 5,
   "metadata": {
    "executionInfo": {
     "elapsed": 330,
     "status": "ok",
     "timestamp": 1623167742361,
     "user": {
      "displayName": "B18DCCN501 - Phạm Xuân Quyền",
      "photoUrl": "",
      "userId": "10836938259867598669"
     },
     "user_tz": -420
    },
    "id": "e8xeHhlwUuXT"
   },
   "outputs": [],
   "source": [
    "X_train_full = X_train_full.reshape(X_train_full.shape[0], 28, 28, 1) # each image 28x28 pixels and 1 color channel\n",
    "X_test = X_test.reshape(X_test.shape[0], 28, 28, 1)\n",
    "\n",
    "X_train_full = X_train_full / 255.\n",
    "X_test = X_test / 255.\n",
    "\n",
    "X_train, X_valid = X_train_full[:50000], X_train_full[50000:]\n",
    "y_train, y_valid = y_train_full[:50000], y_train_full[50000:]\n",
    "\n",
    "y_train = to_categorical(y=y_train, num_classes=10)\n",
    "y_valid = to_categorical(y=y_valid, num_classes=10)\n",
    "y_test = to_categorical(y=y_test, num_classes=10)"
   ]
  },
  {
   "cell_type": "markdown",
   "metadata": {
    "id": "imWqHPaNUuXU"
   },
   "source": [
    "# Create the model"
   ]
  },
  {
   "cell_type": "code",
   "execution_count": 18,
   "metadata": {
    "colab": {
     "base_uri": "https://localhost:8080/"
    },
    "executionInfo": {
     "elapsed": 325,
     "status": "ok",
     "timestamp": 1623167746812,
     "user": {
      "displayName": "B18DCCN501 - Phạm Xuân Quyền",
      "photoUrl": "",
      "userId": "10836938259867598669"
     },
     "user_tz": -420
    },
    "id": "9hrUPbj8UuXU",
    "outputId": "c6416653-4a2d-48cf-c8dc-38971975127a"
   },
   "outputs": [
    {
     "name": "stdout",
     "output_type": "stream",
     "text": [
      "Model: \"sequential_1\"\n",
      "_________________________________________________________________\n",
      "Layer (type)                 Output Shape              Param #   \n",
      "=================================================================\n",
      "conv2d_2 (Conv2D)            (None, 26, 26, 32)        320       \n",
      "_________________________________________________________________\n",
      "conv2d_3 (Conv2D)            (None, 24, 24, 64)        18496     \n",
      "_________________________________________________________________\n",
      "max_pooling2d_1 (MaxPooling2 (None, 12, 12, 64)        0         \n",
      "_________________________________________________________________\n",
      "dropout_2 (Dropout)          (None, 12, 12, 64)        0         \n",
      "_________________________________________________________________\n",
      "flatten_1 (Flatten)          (None, 9216)              0         \n",
      "_________________________________________________________________\n",
      "dense_2 (Dense)              (None, 256)               2359552   \n",
      "_________________________________________________________________\n",
      "dropout_3 (Dropout)          (None, 256)               0         \n",
      "_________________________________________________________________\n",
      "dense_3 (Dense)              (None, 10)                2570      \n",
      "=================================================================\n",
      "Total params: 2,380,938\n",
      "Trainable params: 2,380,938\n",
      "Non-trainable params: 0\n",
      "_________________________________________________________________\n"
     ]
    }
   ],
   "source": [
    "model = Sequential()\n",
    "\n",
    "model.add(Conv2D(filters=32, kernel_size=(3, 3),activation='relu',input_shape=[28, 28, 1]))\n",
    "model.add(Conv2D(filters=64, kernel_size=(3, 3), activation='relu'))\n",
    "model.add(MaxPooling2D(pool_size=(2, 2)))\n",
    "model.add(Dropout(0.25))\n",
    "model.add(Flatten())\n",
    "model.add(Dense(units=256, activation='relu'))\n",
    "model.add(Dropout(0.5))\n",
    "model.add(Dense(units=10, activation='softmax'))\n",
    "\n",
    "model.summary()"
   ]
  },
  {
   "cell_type": "code",
   "execution_count": 20,
   "metadata": {
    "colab": {
     "base_uri": "https://localhost:8080/"
    },
    "executionInfo": {
     "elapsed": 95602,
     "status": "ok",
     "timestamp": 1623167888652,
     "user": {
      "displayName": "B18DCCN501 - Phạm Xuân Quyền",
      "photoUrl": "",
      "userId": "10836938259867598669"
     },
     "user_tz": -420
    },
    "id": "iNEDP1NSUuXV",
    "outputId": "6695ecb9-9837-41fd-fab4-d0cf24b1fd93"
   },
   "outputs": [
    {
     "name": "stdout",
     "output_type": "stream",
     "text": [
      "Epoch 1/10\n",
      "1563/1563 [==============================] - 10s 6ms/step - loss: 0.2932 - accuracy: 0.9110 - val_loss: 0.1836 - val_accuracy: 0.9479\n",
      "Epoch 2/10\n",
      "1563/1563 [==============================] - 9s 6ms/step - loss: 0.2647 - accuracy: 0.9191 - val_loss: 0.1447 - val_accuracy: 0.9581\n",
      "Epoch 3/10\n",
      "1563/1563 [==============================] - 10s 6ms/step - loss: 0.2328 - accuracy: 0.9286 - val_loss: 0.1198 - val_accuracy: 0.9644\n",
      "Epoch 4/10\n",
      "1563/1563 [==============================] - 9s 6ms/step - loss: 0.2131 - accuracy: 0.9352 - val_loss: 0.1109 - val_accuracy: 0.9673\n",
      "Epoch 5/10\n",
      "1563/1563 [==============================] - 10s 6ms/step - loss: 0.1979 - accuracy: 0.9381 - val_loss: 0.1008 - val_accuracy: 0.9718\n",
      "Epoch 6/10\n",
      "1563/1563 [==============================] - 10s 6ms/step - loss: 0.1948 - accuracy: 0.9385 - val_loss: 0.0982 - val_accuracy: 0.9723\n",
      "Epoch 7/10\n",
      "1563/1563 [==============================] - 9s 6ms/step - loss: 0.1773 - accuracy: 0.9464 - val_loss: 0.0931 - val_accuracy: 0.9734\n",
      "Epoch 8/10\n",
      "1563/1563 [==============================] - 9s 6ms/step - loss: 0.1687 - accuracy: 0.9480 - val_loss: 0.0865 - val_accuracy: 0.9758\n",
      "Epoch 9/10\n",
      "1563/1563 [==============================] - 9s 6ms/step - loss: 0.1538 - accuracy: 0.9522 - val_loss: 0.0813 - val_accuracy: 0.9771\n",
      "Epoch 10/10\n",
      "1563/1563 [==============================] - 9s 6ms/step - loss: 0.1361 - accuracy: 0.9579 - val_loss: 0.0735 - val_accuracy: 0.9786\n",
      "313/313 [==============================] - 1s 2ms/step - loss: 0.0726 - accuracy: 0.9772\n"
     ]
    }
   ],
   "source": [
    "model.compile(loss=\"categorical_crossentropy\", optimizer=\"nadam\", metrics=[\"accuracy\"])\n",
    "history = model.fit(X_train, y_train, epochs=10, validation_data=(X_valid, y_valid))\n",
    "score = model.evaluate(X_test, y_test)"
   ]
  },
  {
   "cell_type": "code",
   "execution_count": 1,
   "metadata": {
    "executionInfo": {
     "elapsed": 351,
     "status": "ok",
     "timestamp": 1623167894434,
     "user": {
      "displayName": "B18DCCN501 - Phạm Xuân Quyền",
      "photoUrl": "",
      "userId": "10836938259867598669"
     },
     "user_tz": -420
    },
    "id": "j5DOp_GWVd4H"
   },
   "outputs": [],
   "source": [
    "model.save('mnist.h5')"
   ]
  },
  {
   "cell_type": "code",
   "execution_count": 6,
   "metadata": {
    "executionInfo": {
     "elapsed": 329,
     "status": "ok",
     "timestamp": 1623167946520,
     "user": {
      "displayName": "B18DCCN501 - Phạm Xuân Quyền",
      "photoUrl": "",
      "userId": "10836938259867598669"
     },
     "user_tz": -420
    },
    "id": "F00ZF-RkWQ8F"
   },
   "outputs": [],
   "source": [
    "from keras.models import load_model"
   ]
  },
  {
   "cell_type": "code",
   "execution_count": 7,
   "metadata": {
    "executionInfo": {
     "elapsed": 1788,
     "status": "ok",
     "timestamp": 1623167979189,
     "user": {
      "displayName": "B18DCCN501 - Phạm Xuân Quyền",
      "photoUrl": "",
      "userId": "10836938259867598669"
     },
     "user_tz": -420
    },
    "id": "yNTVXfzaWVkR"
   },
   "outputs": [],
   "source": [
    "model = load_model('mnist.h5')"
   ]
  },
  {
   "cell_type": "code",
   "execution_count": 8,
   "metadata": {
    "colab": {
     "base_uri": "https://localhost:8080/"
    },
    "executionInfo": {
     "elapsed": 416,
     "status": "ok",
     "timestamp": 1623168024811,
     "user": {
      "displayName": "B18DCCN501 - Phạm Xuân Quyền",
      "photoUrl": "",
      "userId": "10836938259867598669"
     },
     "user_tz": -420
    },
    "id": "RCFM9_WwWdEK",
    "outputId": "b943dedc-6755-48d8-80b8-579f0b15e607"
   },
   "outputs": [
    {
     "name": "stdout",
     "output_type": "stream",
     "text": [
      "(28, 28, 1)\n"
     ]
    }
   ],
   "source": [
    "print(X_test[0].shape)"
   ]
  },
  {
   "cell_type": "code",
   "execution_count": 9,
   "metadata": {
    "colab": {
     "base_uri": "https://localhost:8080/"
    },
    "executionInfo": {
     "elapsed": 330,
     "status": "ok",
     "timestamp": 1623168058175,
     "user": {
      "displayName": "B18DCCN501 - Phạm Xuân Quyền",
      "photoUrl": "",
      "userId": "10836938259867598669"
     },
     "user_tz": -420
    },
    "id": "kqeGMAHUWpBK",
    "outputId": "0eb7127e-5073-4811-e015-a01e2051f82d"
   },
   "outputs": [
    {
     "data": {
      "text/plain": [
       "array([[9.3810897e-13, 3.4168013e-10, 8.0921708e-10, 1.0329958e-07,\n",
       "        2.4152260e-13, 1.7405687e-12, 2.8812011e-17, 9.9999976e-01,\n",
       "        9.3485983e-13, 7.1692462e-08]], dtype=float32)"
      ]
     },
     "execution_count": 9,
     "metadata": {},
     "output_type": "execute_result"
    }
   ],
   "source": [
    "model.predict(X_test[0].reshape((1, 28, 28, 1)))"
   ]
  },
  {
   "cell_type": "code",
   "execution_count": 10,
   "metadata": {
    "colab": {
     "base_uri": "https://localhost:8080/"
    },
    "executionInfo": {
     "elapsed": 7,
     "status": "ok",
     "timestamp": 1623168115321,
     "user": {
      "displayName": "B18DCCN501 - Phạm Xuân Quyền",
      "photoUrl": "",
      "userId": "10836938259867598669"
     },
     "user_tz": -420
    },
    "id": "c0seRYsiW0d8",
    "outputId": "29436ec7-924c-42dc-e4a6-2c2b570f029f"
   },
   "outputs": [
    {
     "name": "stdout",
     "output_type": "stream",
     "text": [
      "[0. 0. 0. 0. 0. 0. 0. 1. 0. 0.]\n"
     ]
    }
   ],
   "source": [
    "print(y_test[0])"
   ]
  },
  {
   "cell_type": "code",
   "execution_count": 11,
   "metadata": {},
   "outputs": [
    {
     "data": {
      "text/plain": [
       "<matplotlib.image.AxesImage at 0x23518564400>"
      ]
     },
     "execution_count": 11,
     "metadata": {},
     "output_type": "execute_result"
    },
    {
     "data": {
      "image/png": "[encoded data removed]",
      "text/plain": [
       "<Figure size 432x288 with 1 Axes>"
      ]
     },
     "metadata": {
      "needs_background": "light"
     },
     "output_type": "display_data"
    }
   ],
   "source": [
    "plt.imshow(X_test[0])\n",
    "# X_test[0]"
   ]
  }
 ],
 "metadata": {
  "accelerator": "GPU",
  "colab": {
   "name": "handwritten_digit_recognition.ipynb",
   "provenance": [],
   "toc_visible": true
  },
  "kernelspec": {
   "display_name": "Python 3",
   "language": "python",
   "name": "python3"
  },
  "language_info": {
   "codemirror_mode": {
    "name": "ipython",
    "version": 3
   },
   "file_extension": ".py",
   "mimetype": "text/x-python",
   "name": "python",
   "nbconvert_exporter": "python",
   "pygments_lexer": "ipython3",
   "version": "3.8.5"
  }
 },
 "nbformat": 4,
 "nbformat_minor": 1
}
